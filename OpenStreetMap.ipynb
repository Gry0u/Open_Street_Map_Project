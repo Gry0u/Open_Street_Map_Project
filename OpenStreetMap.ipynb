{
 "cells": [
  {
   "cell_type": "markdown",
   "metadata": {},
   "source": [
    "# Project: OpenStreetMap Data\n",
    "\n",
    "## Table of Contents\n",
    "<ul>\n",
    "<li><a href=\"#intro\">Introduction</a></li>\n",
    "<li><a href=\"#wrangling\">Data Wrangling</a></li>\n",
    "<li><a href=\"#eda\">Exploratory Data Analysis</a></li>\n",
    "<li><a href=\"#conclusions\">Conclusions</a></li>\n",
    "</ul>"
   ]
  },
  {
   "cell_type": "markdown",
   "metadata": {},
   "source": [
    "<a id='intro'></a>\n",
    "## Introduction\n",
    "\n",
    "> **Tip**: In this section of the report, provide a brief introduction to the dataset you've selected for analysis. At the end of this section, describe the questions that you plan on exploring over the course of the report. Try to build your report around the analysis of at least one dependent variable and three independent variables.\n",
    ">\n",
    "> If you haven't yet selected and downloaded your data, make sure you do that first before coming back here. If you're not sure what questions to ask right now, then make sure you familiarize yourself with the variables and the dataset context for ideas of what to explore.\n",
    "\n",
    "### Map Area\n",
    "**Brest, France: **\n",
    "[OpenStreetMap export (206 MB)](https://www.openstreetmap.org/export#map=12/48.4085/-4.4986)\n",
    "- Full extract (206 MB): Bounding Box coordinates (48.3325, -4.7131, 48.4843, -4.2840)\n",
    "- Sample extract (6,2 MB): Bouding Box coordinates (48.3795, -4.4955, 48.3914, -4.4810)\n",
    "\n",
    "This map is of where some of my family live, so I’m more interested to see what database querying reveals, and I’d like an opportunity to contribute to its improvement on OpenStreetMap.org.  \n",
    "Brest belongs to the \"Bretagne\" France region, which has its own regional language in addition to french language:\"breton language\". Both languages are often used for road signs or to indicate city buildings. There is no corresponding national legal framework instructing to do so or explaining how to do so. So I suspect issues or specifities related to this during the data processing and exploration. And especially I'd like to to answer the following questions:  \n",
    "\n",
    "1. Does the Open Street Map data set include both languages?\n",
    "2. If yes, how? \n",
    "    * Is there any tag to indicate the language of the node? \n",
    "    * Do nodes includes both languages, or either french or breton?\n",
    "    * Which proportion of the data is translated?\n",
    "    * What kind of data is translated (amenity/building type)?"
   ]
  },
  {
   "cell_type": "code",
   "execution_count": 1,
   "metadata": {
    "collapsed": true
   },
   "outputs": [],
   "source": [
    "# Use this cell to set up import statements for all of the packages that you\n",
    "#   plan to use.\n",
    "\n",
    "# Remember to include a 'magic word' so that your visualizations are plotted\n",
    "#   inline with the notebook. See this page for more:\n",
    "#   http://ipython.readthedocs.io/en/stable/interactive/magics.html\n",
    "\n",
    "import xml.etree.cElementTree as ET\n",
    "import re\n",
    "import pprint\n",
    "import cerberus\n",
    "import codecs\n",
    "import unicodedata\n",
    "from collections import defaultdict, OrderedDict\n",
    "import pandas as pd\n",
    "import StringIo\n",
    "import gzip\n",
    "import process_xml #the data.py script used at the very end of lesson 13"
   ]
  },
  {
   "cell_type": "markdown",
   "metadata": {},
   "source": [
    "<a id='wrangling'></a>\n",
    "## Data Wrangling\n",
    "### Open file\n",
    "As suggested in the project notes, I will consider a data sample of a much smaller size (6,2 MB) to audit the data and test or cleaning functions. I manually selected and exported a smaller area rather than sampling programatically the full data set."
   ]
  },
  {
   "cell_type": "code",
   "execution_count": 2,
   "metadata": {
    "collapsed": false
   },
   "outputs": [],
   "source": [
    "OSM_FILE = \"brest_full\" \n",
    "SAMPLE_FILE = 'brest_sample.osm'"
   ]
  },
  {
   "cell_type": "markdown",
   "metadata": {},
   "source": [
    "### Explore file to identify what to clean\n"
   ]
  },
  {
   "cell_type": "code",
   "execution_count": 3,
   "metadata": {
    "collapsed": false
   },
   "outputs": [
    {
     "data": {
      "text/plain": [
       "{'bounds': 1,\n",
       " 'member': 25852,\n",
       " 'meta': 1,\n",
       " 'nd': 25447,\n",
       " 'node': 19065,\n",
       " 'note': 1,\n",
       " 'osm': 1,\n",
       " 'relation': 219,\n",
       " 'tag': 24319,\n",
       " 'way': 2990}"
      ]
     },
     "execution_count": 3,
     "metadata": {},
     "output_type": "execute_result"
    }
   ],
   "source": [
    "#top level tags\n",
    "def count_tags(filename):\n",
    "    f=open(filename,mode='r')\n",
    "    tags={}\n",
    "    for event,elem in ET.iterparse(f):\n",
    "        if elem.tag in tags:\n",
    "            tags[elem.tag]+=1\n",
    "        else:\n",
    "            tags[elem.tag]=1\n",
    "    f.close()\n",
    "    return tags\n",
    "\n",
    "count_tags(SAMPLE_FILE)"
   ]
  },
  {
   "cell_type": "code",
   "execution_count": 4,
   "metadata": {},
   "outputs": [],
   "source": [
    "#function returning a dictionary where the keys are the k attribute of the \"tag\" tags and the values a set\n",
    "#of the v attributes\n",
    "def list_tags(filename):\n",
    "    file=open(filename,'r')\n",
    "    tags=defaultdict(set)\n",
    "    for _,element in ET.iterparse(file):\n",
    "        if element.tag=='tag':\n",
    "            tags[element.get('k')].add(element.get('v'))\n",
    "    file.close\n",
    "    return tags\n",
    "#list_tags(SAMPLE_FILE)"
   ]
  },
  {
   "cell_type": "markdown",
   "metadata": {},
   "source": [
    "After manually scrolling through the result dictionary, I could already spot some entries needing to be cleaned:\n",
    "- phone numbers in \"contact:phone\" and \"contact:fax\"  \n",
    "Format is not consistent: +33 x xx xx xx xx or +332xxxxxxxx or +33 x xxxxxxxx.\n",
    "And I also don't know if all phone numbers have really the right lenght or all start with the right country code (+33)\n",
    "- opening_hours: format not consistent  \n",
    "9h-19h du lundi au samedi \n",
    "Lu-Sa 07:00-22:00  \n",
    "Mo-Fr 14:00-18:30\n",
    "\n",
    "Additionally , although I could not manually \"spot\" or \"see\" the errors, I suspect that the following may also need some cleaning:\n",
    "- addr:postcode\n",
    "- addr:street (same street types cleaning to perform as shown in the course)\n",
    "\n",
    "I don't think the following attributes contain errors, but I still want to audit them too to be sure the data is consistent:\n",
    "- addr:city\n",
    "- addr:country"
   ]
  },
  {
   "cell_type": "code",
   "execution_count": 5,
   "metadata": {},
   "outputs": [],
   "source": [
    "expected_city='Brest'\n",
    "postcode_re=re.compile(r'29\\d{3}')\n",
    "street_type_re=re.compile(r'[\\w-]+')\n",
    "phone_re=re.compile(r'\\+33\\s\\d(\\s\\d\\d){4}')\n",
    "expected_country='FR'\n",
    "expected_st_types=['Rue','Boulevard','Square','Place','Avenue','Jardin','Cours','Quai','Parking',\\\n",
    "                   'Eglise','Halles','Rampe']\n",
    "\n",
    "def audit_city(city):\n",
    "    if city<>expected_city:\n",
    "        return city\n",
    "    \n",
    "def audit_country(country):\n",
    "    if country<>expected_country:\n",
    "        return country\n",
    "    \n",
    "def audit_postcode(postcode):\n",
    "    m=re.search(postcode_re,postcode)\n",
    "    if not m:\n",
    "        return postcode\n",
    "    \n",
    "def audit_street_type(street_name):\n",
    "    m=re.match(street_type_re,street_name)\n",
    "    if m:\n",
    "        street_type=m.group()\n",
    "        if street_type not in expected_st_types:\n",
    "            return street_name\n",
    "        \n",
    "def audit_phone(phone_number):\n",
    "    m=re.match(phone_re,phone_number) # check if phone number is in the right format\n",
    "    length=sum(c.isdigit() for c in phone_number) # check is phone number has the right number of digits\n",
    "    if not m or length <> 11 or phone_number[1:3]<>\"33\" :\n",
    "        return phone_number"
   ]
  },
  {
   "cell_type": "code",
   "execution_count": 6,
   "metadata": {},
   "outputs": [
    {
     "data": {
      "text/plain": [
       "defaultdict(set,\n",
       "            {'addr:city': {None},\n",
       "             'addr:country': {None},\n",
       "             'addr:postcode': {None},\n",
       "             'addr:street': {None,\n",
       "              'Bd Jean Moulin',\n",
       "              u\"Cit\\xe9 d'Antin\",\n",
       "              'SQUARE PL Sadi Carnot',\n",
       "              'SQUARE Rue Emile Zola',\n",
       "              u'bd Fran\\xe7ais Libres',\n",
       "              'bd Jean Moulin',\n",
       "              'eglise st louis',\n",
       "              'halles St Louis',\n",
       "              u'place de la Libert\\xe9',\n",
       "              u'rue Ducou\\ufffddic',\n",
       "              'rue Duquesne',\n",
       "              'rue Emile Zola',\n",
       "              'rue Louis Pasteur',\n",
       "              'rue Michelet',\n",
       "              'rue Traverse',\n",
       "              'rue Yves Collet',\n",
       "              'rue de Lyon',\n",
       "              'rue de porstrein',\n",
       "              'rue du Chateau',\n",
       "              u'rue du Ch\\ufffdteau',\n",
       "              'square',\n",
       "              'square Rue Aiguillon',\n",
       "              'square Sangnier'},\n",
       "             'contact:fax': {None,\n",
       "              '+33 2 98433840',\n",
       "              '+33 2 98436188',\n",
       "              '+33 2 98448754',\n",
       "              '+33 2 98805447'},\n",
       "             'contact:phone': {None,\n",
       "              '+33 2 29004443',\n",
       "              '+33 2 29051900',\n",
       "              '+33 2 29630564',\n",
       "              '+33 2 98031826',\n",
       "              '+33 2 98331070',\n",
       "              '+33 2 98333857',\n",
       "              '+33 2 98432048',\n",
       "              '+33 2 98432617',\n",
       "              '+33 2 98434851',\n",
       "              '+33 2 98439134',\n",
       "              '+33 2 98440032',\n",
       "              '+33 2 98441860',\n",
       "              '+33 2 98443548',\n",
       "              '+33 2 98444436',\n",
       "              '+33 2 98445857',\n",
       "              '+33 2 98447020',\n",
       "              '+33 2 98460165',\n",
       "              '+33 2 98460688',\n",
       "              '+33 2 98460740',\n",
       "              '+33 2 98460770',\n",
       "              '+33 2 98469148',\n",
       "              '+33 2 98469610',\n",
       "              '+33 2 98611000',\n",
       "              '+33 2 98800628',\n",
       "              '+33 2 98802235',\n",
       "              '+33 2 98803665',\n",
       "              '+33 2 98804347',\n",
       "              '+33 2 98804484',\n",
       "              '+33 2 98806666',\n",
       "              '+33 7 78 370 323',\n",
       "              '+33 9 51441478',\n",
       "              '+33298201020',\n",
       "              '+33298213898'}})"
      ]
     },
     "execution_count": 6,
     "metadata": {},
     "output_type": "execute_result"
    }
   ],
   "source": [
    "#investigate value attributes of the tags in the tags to audit list. Return the \"weirdos\": the ones which don't match the expected values\n",
    "k_list=['addr:street','addr:city','addr:postcode','addr:country','contact:phone','contact:fax']\n",
    "function_list=[audit_street_type, audit_city, audit_postcode, audit_country, audit_phone, audit_phone]\n",
    "audit_dict={k:v for k,v in zip(k_list,function_list)}\n",
    "\n",
    "def audit(filename):\n",
    "    f=open(filename,'r')\n",
    "    d=defaultdict(set)\n",
    "    for _,element in ET.iterparse(f):\n",
    "        if element.tag=='tag':\n",
    "            k=element.get('k')\n",
    "            v=element.get('v')\n",
    "            if k in k_list:\n",
    "                d[k].add(audit_dict[k](v))\n",
    "    return d\n",
    "\n",
    "results_audit=audit(SAMPLE_FILE)\n",
    "results_audit"
   ]
  },
  {
   "cell_type": "markdown",
   "metadata": {},
   "source": [
    "The postcode, city, country tags are clean.  \n",
    "**addr_street**, **contact:phone**, **contact:fax** need to be cleaned.  \n",
    "We'll also need to encode/decode the strings properly. It looks like the 'é' character is not read properly."
   ]
  },
  {
   "cell_type": "markdown",
   "metadata": {},
   "source": [
    "### Data Cleaning\n",
    "#### Clean addr:street"
   ]
  },
  {
   "cell_type": "code",
   "execution_count": 7,
   "metadata": {
    "collapsed": true
   },
   "outputs": [
    {
     "name": "stdout",
     "output_type": "stream",
     "text": [
      "Place de la Liberté\n",
      "Square\n",
      "Cité d'Antin\n",
      "Boulevard Jean Moulin\n",
      "Rue Traverse\n",
      "Square PL Sadi Carnot\n",
      "Rue Yves Collet\n",
      "Rue de porstrein\n",
      "Rue Duquesne\n",
      "Boulevard Français Libres\n",
      "Halles St Louis\n",
      "Square Rue Aiguillon\n",
      "Rue Louis Pasteur\n",
      "Rue du Chateau\n",
      "Boulevard Jean Moulin\n",
      "Eglise st louis\n",
      "Rue Ducou�dic\n",
      "Rue Emile Zola\n",
      "Rue de Lyon\n",
      "Square Rue Emile Zola\n",
      "Rue Michelet\n",
      "Square Sangnier\n",
      "Rue du Ch�teau\n"
     ]
    }
   ],
   "source": [
    "#update street_name\n",
    "mapping={'Bd':'Boulevard',\n",
    "         'bd':'Boulevard',\n",
    "         'SQUARE':'Square',\n",
    "        'eglise':'Eglise',\n",
    "         'halles':'Halles',\n",
    "         'place':'Place',\n",
    "        'rue':'Rue',\n",
    "        'square':'Square',\n",
    "        'Cit':'Cit'}\n",
    "\n",
    "def update_name(name):\n",
    "    street_type=street_type_re.match(name).group()\n",
    "    repl=mapping[street_type]\n",
    "    return re.sub(street_type_re,repl,name,1)\n",
    "\n",
    "for n in results_audit['addr:street']:\n",
    "    if n is None:\n",
    "        pass\n",
    "    else:\n",
    "        print update_name(n)\n"
   ]
  },
  {
   "cell_type": "markdown",
   "metadata": {},
   "source": [
    "#### Clean contact:phone and contact:fax"
   ]
  },
  {
   "cell_type": "code",
   "execution_count": 8,
   "metadata": {},
   "outputs": [
    {
     "name": "stdout",
     "output_type": "stream",
     "text": [
      "+33233445566 ---> +33 2 33 44 55 66\n",
      "+33 2 33 221 555 ---> +33 2 33 22 15 55\n",
      "+33 2 22222222 ---> +33 2 22 22 22 22\n"
     ]
    }
   ],
   "source": [
    "#Reformat all phone and fax numbers so that they respect the following format: +33 x xx xx xx xx, which the format commonly used in France\n",
    "def clean_number(num):\n",
    "    #case 1: +33 x xxxxxxxx\n",
    "    if re.search(r'\\s\\d{8}', num):\n",
    "        num=num[:6]+num[6:8]+\" \"+num[8:10]+\" \"+num[10:12]+\" \"+num[12:]\n",
    "        \n",
    "    #case 2:+33 x xx xxx xxx\n",
    "    elif re.search(r'\\d{3}\\s', num):\n",
    "        num=num[:9]+num[9:11]+' '+num[11:12]+num[13:14]+' '+num[14:]\n",
    "        \n",
    "    #case 3: +33xxxxxxxxx\n",
    "    elif not re.search(r'\\s',num):\n",
    "        num=num[:3]+' '+num[3:4]+' '+num[4:6]+' '+num[6:8]+' '+num[8:10]+' '+num[10:]\n",
    "    \n",
    "    return num\n",
    "\n",
    "#test\n",
    "numlist=['+33233445566','+33 2 33 221 555','+33 2 22222222']\n",
    "for n in numlist:\n",
    "    print n + ' ---> ' +clean_number(n)"
   ]
  },
  {
   "cell_type": "markdown",
   "metadata": {},
   "source": [
    "### Export to csv  "
   ]
  },
  {
   "cell_type": "code",
   "execution_count": 10,
   "metadata": {},
   "outputs": [
    {
     "data": {
      "text/plain": [
       "'rue Blabla'"
      ]
     },
     "execution_count": 10,
     "metadata": {},
     "output_type": "execute_result"
    }
   ],
   "source": [
    "process_xml.clean('street','rue Blabla')"
   ]
  },
  {
   "cell_type": "code",
   "execution_count": 11,
   "metadata": {},
   "outputs": [],
   "source": [
    "process_xml.process_map(SAMPLE_FILE, validate=True)"
   ]
  },
  {
   "cell_type": "markdown",
   "metadata": {},
   "source": [
    "### Import to SQL using *schema*"
   ]
  },
  {
   "cell_type": "markdown",
   "metadata": {},
   "source": [
    "<a id='eda'></a>\n",
    "## Exploratory Data Analysis\n",
    "\n",
    "> **Tip**: Now that you've trimmed and cleaned your data, you're ready to move on to exploration. Compute statistics and create visualizations with the goal of addressing the research questions that you posed in the Introduction section. It is recommended that you be systematic with your approach. Look at one variable at a time, and then follow it up by looking at relationships between variables.\n",
    "\n",
    "### Research Question 1 (Replace this header name!)"
   ]
  },
  {
   "cell_type": "code",
   "execution_count": null,
   "metadata": {
    "collapsed": true
   },
   "outputs": [],
   "source": [
    "# Use this, and more code cells, to explore your data. Don't forget to add\n",
    "#   Markdown cells to document your observations and findings.\n"
   ]
  },
  {
   "cell_type": "markdown",
   "metadata": {},
   "source": [
    "### Research Question 2  (Replace this header name!)"
   ]
  },
  {
   "cell_type": "code",
   "execution_count": null,
   "metadata": {
    "collapsed": true
   },
   "outputs": [],
   "source": [
    "# Continue to explore the data to address your additional research\n",
    "#   questions. Add more headers as needed if you have more questions to\n",
    "#   investigate.\n"
   ]
  },
  {
   "cell_type": "markdown",
   "metadata": {},
   "source": [
    "<a id='conclusions'></a>\n",
    "## Conclusions\n",
    "\n",
    "> **Tip**: Finally, summarize your findings and the results that have been performed. Make sure that you are clear with regards to the limitations of your exploration. If you haven't done any statistical tests, do not imply any statistical conclusions. And make sure you avoid implying causation from correlation!\n",
    "\n",
    "> **Tip**: Once you are satisfied with your work, you should save a copy of the report in HTML or PDF form via the **File** > **Download as** submenu. Before exporting your report, check over it to make sure that the flow of the report is complete. You should probably remove all of the \"Tip\" quotes like this one so that the presentation is as tidy as possible. Congratulations!"
   ]
  },
  {
   "cell_type": "code",
   "execution_count": null,
   "metadata": {
    "collapsed": true
   },
   "outputs": [],
   "source": []
  }
 ],
 "metadata": {
  "anaconda-cloud": {},
  "kernelspec": {
   "display_name": "Python [conda env:DAND]",
   "language": "python",
   "name": "conda-env-DAND-py"
  },
  "language_info": {
   "codemirror_mode": {
    "name": "ipython",
    "version": 2
   },
   "file_extension": ".py",
   "mimetype": "text/x-python",
   "name": "python",
   "nbconvert_exporter": "python",
   "pygments_lexer": "ipython2",
   "version": "2.7.12"
  }
 },
 "nbformat": 4,
 "nbformat_minor": 2
}
